{
 "cells": [
  {
   "cell_type": "markdown",
   "id": "3c01708b",
   "metadata": {},
   "source": [
    "# Import the libraries"
   ]
  },
  {
   "cell_type": "code",
   "execution_count": 18,
   "id": "f2e19028",
   "metadata": {},
   "outputs": [],
   "source": [
    "from bs4 import BeautifulSoup\n",
    "import requests\n",
    "import pandas as pd\n",
    "import csv"
   ]
  },
  {
   "cell_type": "markdown",
   "id": "c2ad2036",
   "metadata": {},
   "source": [
    "# Get URL and send GET request"
   ]
  },
  {
   "cell_type": "code",
   "execution_count": 19,
   "id": "65bd1a99",
   "metadata": {},
   "outputs": [
    {
     "name": "stdout",
     "output_type": "stream",
     "text": [
      "Request Successful\n"
     ]
    }
   ],
   "source": [
    "url='https://www.goodreads.com/list/show/12362.All_Time_Favorite_Romance_Novels?page=1'\n",
    "response=requests.get(url)\n",
    "if response.status_code==200:\n",
    "    print(\"Request Successful\")\n",
    "else:\n",
    "    print(\"Request Failed\")"
   ]
  },
  {
   "cell_type": "markdown",
   "id": "c9118578",
   "metadata": {},
   "source": [
    "# Parse the HTML Content"
   ]
  },
  {
   "cell_type": "code",
   "execution_count": 32,
   "id": "fa04d717",
   "metadata": {},
   "outputs": [],
   "source": [
    "#create a soup object to parse the html content\n",
    "soup=BeautifulSoup(response.content,'html.parser')"
   ]
  },
  {
   "cell_type": "markdown",
   "id": "125e4288",
   "metadata": {},
   "source": [
    "# Extract Book Details for Page 1"
   ]
  },
  {
   "cell_type": "code",
   "execution_count": 25,
   "id": "12db02f0",
   "metadata": {
    "scrolled": true
   },
   "outputs": [
    {
     "data": {
      "text/html": [
       "<div>\n",
       "<style scoped>\n",
       "    .dataframe tbody tr th:only-of-type {\n",
       "        vertical-align: middle;\n",
       "    }\n",
       "\n",
       "    .dataframe tbody tr th {\n",
       "        vertical-align: top;\n",
       "    }\n",
       "\n",
       "    .dataframe thead th {\n",
       "        text-align: right;\n",
       "    }\n",
       "</style>\n",
       "<table border=\"1\" class=\"dataframe\">\n",
       "  <thead>\n",
       "    <tr style=\"text-align: right;\">\n",
       "      <th></th>\n",
       "      <th>Book Title</th>\n",
       "      <th>Author</th>\n",
       "      <th>Ratings</th>\n",
       "      <th>Average Score</th>\n",
       "      <th>Score</th>\n",
       "      <th>Votes</th>\n",
       "    </tr>\n",
       "  </thead>\n",
       "  <tbody>\n",
       "    <tr>\n",
       "      <th>0</th>\n",
       "      <td>Pride and Prejudice</td>\n",
       "      <td>Jane Austen</td>\n",
       "      <td>4,254,342</td>\n",
       "      <td>4.29</td>\n",
       "      <td>242,754,</td>\n",
       "      <td>2,456</td>\n",
       "    </tr>\n",
       "    <tr>\n",
       "      <th>1</th>\n",
       "      <td>Fifty Shades of Grey (Fifty Shades, #1)</td>\n",
       "      <td>E.L. James</td>\n",
       "      <td>2,598,074</td>\n",
       "      <td>3.66</td>\n",
       "      <td>231,163,</td>\n",
       "      <td>2,345</td>\n",
       "    </tr>\n",
       "    <tr>\n",
       "      <th>2</th>\n",
       "      <td>Beautiful Disaster (Beautiful, #1)</td>\n",
       "      <td>Jamie McGuire</td>\n",
       "      <td>681,175</td>\n",
       "      <td>4.01</td>\n",
       "      <td>216,238,</td>\n",
       "      <td>2,194</td>\n",
       "    </tr>\n",
       "    <tr>\n",
       "      <th>3</th>\n",
       "      <td>Twilight (The Twilight Saga, #1)</td>\n",
       "      <td>Stephenie Meyer</td>\n",
       "      <td>6,554,968</td>\n",
       "      <td>3.65</td>\n",
       "      <td>140,016,</td>\n",
       "      <td>1,437</td>\n",
       "    </tr>\n",
       "    <tr>\n",
       "      <th>4</th>\n",
       "      <td>The Notebook (The Notebook, #1)</td>\n",
       "      <td>Nicholas Sparks</td>\n",
       "      <td>1,686,046</td>\n",
       "      <td>4.15</td>\n",
       "      <td>99,788,</td>\n",
       "      <td>1,025</td>\n",
       "    </tr>\n",
       "  </tbody>\n",
       "</table>\n",
       "</div>"
      ],
      "text/plain": [
       "                                Book Title           Author    Ratings  \\\n",
       "0                      Pride and Prejudice      Jane Austen  4,254,342   \n",
       "1  Fifty Shades of Grey (Fifty Shades, #1)       E.L. James  2,598,074   \n",
       "2       Beautiful Disaster (Beautiful, #1)    Jamie McGuire    681,175   \n",
       "3         Twilight (The Twilight Saga, #1)  Stephenie Meyer  6,554,968   \n",
       "4          The Notebook (The Notebook, #1)  Nicholas Sparks  1,686,046   \n",
       "\n",
       "  Average Score     Score  Votes  \n",
       "0          4.29  242,754,  2,456  \n",
       "1          3.66  231,163,  2,345  \n",
       "2          4.01  216,238,  2,194  \n",
       "3          3.65  140,016,  1,437  \n",
       "4          4.15   99,788,  1,025  "
      ]
     },
     "execution_count": 25,
     "metadata": {},
     "output_type": "execute_result"
    }
   ],
   "source": [
    "# Find all book containers on the page\n",
    "book_containers=soup.find_all('tr',itemtype=\"http://schema.org/Book\")\n",
    "\n",
    "# Create empty lists to hold book information\n",
    "names=[]\n",
    "authors=[]\n",
    "ratings=[]\n",
    "avgscores=[]\n",
    "scores=[]\n",
    "votes=[]\n",
    "\n",
    "# Iterate through each book container\n",
    "for container in book_containers:\n",
    "     # Extract book title\n",
    "    name = container.find('a',class_=\"bookTitle\").text.strip()\n",
    "    names.append(name)\n",
    "    \n",
    "    # Extract author name\n",
    "    author = container.find('a',class_=\"authorName\").text.strip()\n",
    "    authors.append(author)\n",
    "    \n",
    "    # Extract rating and average score\n",
    "    scoring = container.find('span',class_=\"greyText smallText uitext\").text.strip().split()\n",
    "    ratings.append(scoring[4])\n",
    "    avgscores.append(scoring[0])\n",
    "    \n",
    "    # Extract number of scores and votes\n",
    "    voting= container.find('span',class_=\"smallText uitext\").text.strip().split()  \n",
    "    scores.append(voting[1])\n",
    "    votes.append(voting[3])\n",
    "\n",
    "# Create a DataFrame to store the extracted data\n",
    "df=pd.DataFrame({'Book Title': names,\n",
    "                 'Author': authors,\n",
    "                'Ratings': ratings,\n",
    "                'Average Score': avgscores,\n",
    "                'Score': scores,\n",
    "                'Votes':votes})\n",
    "\n",
    "df.head()"
   ]
  },
  {
   "cell_type": "markdown",
   "id": "31aa5c39",
   "metadata": {},
   "source": [
    "# Extract Book Details for All Pages"
   ]
  },
  {
   "cell_type": "code",
   "execution_count": 27,
   "id": "8d871c6a",
   "metadata": {},
   "outputs": [
    {
     "name": "stdout",
     "output_type": "stream",
     "text": [
      "Data extraction completed.\n"
     ]
    }
   ],
   "source": [
    "# Create empty lists to hold book information\n",
    "names=[]\n",
    "authors=[]\n",
    "ratings=[]\n",
    "avgscores=[]\n",
    "scores=[]\n",
    "votes=[]\n",
    "\n",
    "# Loop through each page of the Goodreads list\n",
    "for page_num in range(1,55):\n",
    "    url=f'https://www.goodreads.com/list/show/12362.All_Time_Favorite_Romance_Novels?page={page_num}'\n",
    "    response=requests.get(url)\n",
    "    \n",
    "    # Parse the HTML content of the page\n",
    "    soup=BeautifulSoup(response.content,'html.parser')\n",
    "    \n",
    "    # Find all book containers on the page\n",
    "    book_containers = soup.find_all('tr', itemtype=\"http://schema.org/Book\")\n",
    "    \n",
    "    # Iterate through each book container\n",
    "    for container in book_containers:\n",
    "         # Extract book title\n",
    "        name = container.find('a',class_=\"bookTitle\").text.strip()\n",
    "        names.append(name)\n",
    "    \n",
    "        # Extract author name\n",
    "        author = container.find('a',class_=\"authorName\").text.strip()\n",
    "        authors.append(author)\n",
    "    \n",
    "        # Extract rating and average score\n",
    "        scoring = container.find('span',class_=\"greyText smallText uitext\").text.strip().split()\n",
    "        ratings.append(scoring[4])\n",
    "        avgscores.append(scoring[0])\n",
    "    \n",
    "        # Extract number of scores and votes\n",
    "        voting= container.find('span',class_=\"smallText uitext\").text.strip().split()  \n",
    "        scores.append(voting[1])\n",
    "        votes.append(voting[3])\n",
    "        \n",
    "# Print message indicating completion of data extraction\n",
    "print(\"Data extraction completed.\")"
   ]
  },
  {
   "cell_type": "markdown",
   "id": "c87a7809",
   "metadata": {},
   "source": [
    "# Export the data"
   ]
  },
  {
   "cell_type": "code",
   "execution_count": 30,
   "id": "9b460efd",
   "metadata": {},
   "outputs": [
    {
     "data": {
      "text/html": [
       "<div>\n",
       "<style scoped>\n",
       "    .dataframe tbody tr th:only-of-type {\n",
       "        vertical-align: middle;\n",
       "    }\n",
       "\n",
       "    .dataframe tbody tr th {\n",
       "        vertical-align: top;\n",
       "    }\n",
       "\n",
       "    .dataframe thead th {\n",
       "        text-align: right;\n",
       "    }\n",
       "</style>\n",
       "<table border=\"1\" class=\"dataframe\">\n",
       "  <thead>\n",
       "    <tr style=\"text-align: right;\">\n",
       "      <th></th>\n",
       "      <th>Book Title</th>\n",
       "      <th>Author</th>\n",
       "      <th>Ratings</th>\n",
       "      <th>Average Score</th>\n",
       "      <th>Score</th>\n",
       "      <th>Votes</th>\n",
       "    </tr>\n",
       "  </thead>\n",
       "  <tbody>\n",
       "    <tr>\n",
       "      <th>0</th>\n",
       "      <td>Pride and Prejudice</td>\n",
       "      <td>Jane Austen</td>\n",
       "      <td>4,254,354</td>\n",
       "      <td>4.29</td>\n",
       "      <td>242,754,</td>\n",
       "      <td>2,456</td>\n",
       "    </tr>\n",
       "    <tr>\n",
       "      <th>1</th>\n",
       "      <td>Fifty Shades of Grey (Fifty Shades, #1)</td>\n",
       "      <td>E.L. James</td>\n",
       "      <td>2,598,081</td>\n",
       "      <td>3.66</td>\n",
       "      <td>231,163,</td>\n",
       "      <td>2,345</td>\n",
       "    </tr>\n",
       "    <tr>\n",
       "      <th>2</th>\n",
       "      <td>Beautiful Disaster (Beautiful, #1)</td>\n",
       "      <td>Jamie McGuire</td>\n",
       "      <td>681,175</td>\n",
       "      <td>4.01</td>\n",
       "      <td>216,238,</td>\n",
       "      <td>2,194</td>\n",
       "    </tr>\n",
       "    <tr>\n",
       "      <th>3</th>\n",
       "      <td>Twilight (The Twilight Saga, #1)</td>\n",
       "      <td>Stephenie Meyer</td>\n",
       "      <td>6,554,989</td>\n",
       "      <td>3.65</td>\n",
       "      <td>140,016,</td>\n",
       "      <td>1,437</td>\n",
       "    </tr>\n",
       "    <tr>\n",
       "      <th>4</th>\n",
       "      <td>The Notebook (The Notebook, #1)</td>\n",
       "      <td>Nicholas Sparks</td>\n",
       "      <td>1,686,046</td>\n",
       "      <td>4.15</td>\n",
       "      <td>99,788,</td>\n",
       "      <td>1,025</td>\n",
       "    </tr>\n",
       "    <tr>\n",
       "      <th>5</th>\n",
       "      <td>Perfect Chemistry (Perfect Chemistry, #1)</td>\n",
       "      <td>Simone Elkeles</td>\n",
       "      <td>259,624</td>\n",
       "      <td>4.04</td>\n",
       "      <td>98,391,</td>\n",
       "      <td>1,005</td>\n",
       "    </tr>\n",
       "    <tr>\n",
       "      <th>6</th>\n",
       "      <td>Outlander (Outlander, #1)</td>\n",
       "      <td>Diana Gabaldon</td>\n",
       "      <td>1,049,387</td>\n",
       "      <td>4.26</td>\n",
       "      <td>92,123,</td>\n",
       "      <td>939</td>\n",
       "    </tr>\n",
       "    <tr>\n",
       "      <th>7</th>\n",
       "      <td>Jane Eyre</td>\n",
       "      <td>Charlotte Brontë</td>\n",
       "      <td>2,089,498</td>\n",
       "      <td>4.15</td>\n",
       "      <td>88,963,</td>\n",
       "      <td>913</td>\n",
       "    </tr>\n",
       "    <tr>\n",
       "      <th>8</th>\n",
       "      <td>Thoughtless (Thoughtless, #1)</td>\n",
       "      <td>S.C. Stephens</td>\n",
       "      <td>140,151</td>\n",
       "      <td>4.08</td>\n",
       "      <td>82,516,</td>\n",
       "      <td>849</td>\n",
       "    </tr>\n",
       "    <tr>\n",
       "      <th>9</th>\n",
       "      <td>Bared to You (Crossfire, #1)</td>\n",
       "      <td>Sylvia Day</td>\n",
       "      <td>525,820</td>\n",
       "      <td>4.14</td>\n",
       "      <td>79,994,</td>\n",
       "      <td>832</td>\n",
       "    </tr>\n",
       "  </tbody>\n",
       "</table>\n",
       "</div>"
      ],
      "text/plain": [
       "                                  Book Title            Author    Ratings  \\\n",
       "0                        Pride and Prejudice       Jane Austen  4,254,354   \n",
       "1    Fifty Shades of Grey (Fifty Shades, #1)        E.L. James  2,598,081   \n",
       "2         Beautiful Disaster (Beautiful, #1)     Jamie McGuire    681,175   \n",
       "3           Twilight (The Twilight Saga, #1)   Stephenie Meyer  6,554,989   \n",
       "4            The Notebook (The Notebook, #1)   Nicholas Sparks  1,686,046   \n",
       "5  Perfect Chemistry (Perfect Chemistry, #1)    Simone Elkeles    259,624   \n",
       "6                  Outlander (Outlander, #1)    Diana Gabaldon  1,049,387   \n",
       "7                                  Jane Eyre  Charlotte Brontë  2,089,498   \n",
       "8              Thoughtless (Thoughtless, #1)     S.C. Stephens    140,151   \n",
       "9               Bared to You (Crossfire, #1)        Sylvia Day    525,820   \n",
       "\n",
       "  Average Score     Score  Votes  \n",
       "0          4.29  242,754,  2,456  \n",
       "1          3.66  231,163,  2,345  \n",
       "2          4.01  216,238,  2,194  \n",
       "3          3.65  140,016,  1,437  \n",
       "4          4.15   99,788,  1,025  \n",
       "5          4.04   98,391,  1,005  \n",
       "6          4.26   92,123,    939  \n",
       "7          4.15   88,963,    913  \n",
       "8          4.08   82,516,    849  \n",
       "9          4.14   79,994,    832  "
      ]
     },
     "execution_count": 30,
     "metadata": {},
     "output_type": "execute_result"
    }
   ],
   "source": [
    "# Create a dictionary to hold the data\n",
    "# Create a DataFrame to store the extracted data\n",
    "df=pd.DataFrame({'Book Title': names,\n",
    "                 'Author': authors,\n",
    "                'Ratings': ratings,\n",
    "                'Average Score': avgscores,\n",
    "                'Score': scores,\n",
    "                'Votes':votes})\n",
    "\n",
    "df.head(10)"
   ]
  },
  {
   "cell_type": "code",
   "execution_count": 31,
   "id": "6321948b",
   "metadata": {},
   "outputs": [
    {
     "name": "stdout",
     "output_type": "stream",
     "text": [
      "DataFrame saved to GoodRead_Book.csv\n"
     ]
    }
   ],
   "source": [
    "# Save the DataFrame to a CSV file\n",
    "df.to_csv(\"GoodRead_Book.csv\", index=False)\n",
    "print(\"DataFrame saved to GoodRead_Book.csv\")\n"
   ]
  },
  {
   "cell_type": "code",
   "execution_count": null,
   "id": "9f1531dc",
   "metadata": {},
   "outputs": [],
   "source": []
  }
 ],
 "metadata": {
  "kernelspec": {
   "display_name": "Python 3 (ipykernel)",
   "language": "python",
   "name": "python3"
  },
  "language_info": {
   "codemirror_mode": {
    "name": "ipython",
    "version": 3
   },
   "file_extension": ".py",
   "mimetype": "text/x-python",
   "name": "python",
   "nbconvert_exporter": "python",
   "pygments_lexer": "ipython3",
   "version": "3.11.4"
  }
 },
 "nbformat": 4,
 "nbformat_minor": 5
}
